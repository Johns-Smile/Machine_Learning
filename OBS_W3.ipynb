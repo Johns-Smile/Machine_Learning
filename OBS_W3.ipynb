{
 "cells": [
  {
   "cell_type": "code",
   "execution_count": 4,
   "metadata": {
    "id": "prgRzKgPK2p8"
   },
   "outputs": [],
   "source": [
    "import pandas as pd\n",
    "import numpy as np"
   ]
  },
  {
   "cell_type": "code",
   "execution_count": 5,
   "metadata": {
    "id": "661D1o64K6NK"
   },
   "outputs": [],
   "source": [
    "weather_data = pd.read_csv('enjoysport.csv')"
   ]
  },
  {
   "cell_type": "code",
   "execution_count": 6,
   "metadata": {
    "colab": {
     "base_uri": "https://localhost:8080/",
     "height": 175
    },
    "id": "svUqSuGWLorD",
    "outputId": "f1b5a72c-bf41-4dcd-a0cc-d9f92fb3425a"
   },
   "outputs": [
    {
     "data": {
      "text/html": [
       "<div>\n",
       "<style scoped>\n",
       "    .dataframe tbody tr th:only-of-type {\n",
       "        vertical-align: middle;\n",
       "    }\n",
       "\n",
       "    .dataframe tbody tr th {\n",
       "        vertical-align: top;\n",
       "    }\n",
       "\n",
       "    .dataframe thead th {\n",
       "        text-align: right;\n",
       "    }\n",
       "</style>\n",
       "<table border=\"1\" class=\"dataframe\">\n",
       "  <thead>\n",
       "    <tr style=\"text-align: right;\">\n",
       "      <th></th>\n",
       "      <th>sky</th>\n",
       "      <th>air_temp</th>\n",
       "      <th>humidity</th>\n",
       "      <th>wind</th>\n",
       "      <th>water</th>\n",
       "      <th>forecast</th>\n",
       "      <th>enjoy_sport</th>\n",
       "    </tr>\n",
       "  </thead>\n",
       "  <tbody>\n",
       "    <tr>\n",
       "      <th>0</th>\n",
       "      <td>sunny</td>\n",
       "      <td>warm</td>\n",
       "      <td>normal</td>\n",
       "      <td>strong</td>\n",
       "      <td>warm</td>\n",
       "      <td>same</td>\n",
       "      <td>yes</td>\n",
       "    </tr>\n",
       "    <tr>\n",
       "      <th>1</th>\n",
       "      <td>sunny</td>\n",
       "      <td>warm</td>\n",
       "      <td>high</td>\n",
       "      <td>strong</td>\n",
       "      <td>warm</td>\n",
       "      <td>same</td>\n",
       "      <td>yes</td>\n",
       "    </tr>\n",
       "    <tr>\n",
       "      <th>2</th>\n",
       "      <td>rainy</td>\n",
       "      <td>cold</td>\n",
       "      <td>high</td>\n",
       "      <td>strong</td>\n",
       "      <td>warm</td>\n",
       "      <td>change</td>\n",
       "      <td>no</td>\n",
       "    </tr>\n",
       "    <tr>\n",
       "      <th>3</th>\n",
       "      <td>sunny</td>\n",
       "      <td>warm</td>\n",
       "      <td>high</td>\n",
       "      <td>strong</td>\n",
       "      <td>cool</td>\n",
       "      <td>change</td>\n",
       "      <td>yes</td>\n",
       "    </tr>\n",
       "  </tbody>\n",
       "</table>\n",
       "</div>"
      ],
      "text/plain": [
       "     sky air_temp humidity    wind water forecast enjoy_sport\n",
       "0  sunny     warm   normal  strong  warm     same         yes\n",
       "1  sunny     warm     high  strong  warm     same         yes\n",
       "2  rainy     cold     high  strong  warm   change          no\n",
       "3  sunny     warm     high  strong  cool   change         yes"
      ]
     },
     "execution_count": 6,
     "metadata": {},
     "output_type": "execute_result"
    }
   ],
   "source": [
    "weather_data"
   ]
  },
  {
   "cell_type": "code",
   "execution_count": 7,
   "metadata": {
    "id": "6j2MKN7qLp2E"
   },
   "outputs": [],
   "source": [
    "l = list(weather_data.columns)"
   ]
  },
  {
   "cell_type": "code",
   "execution_count": 8,
   "metadata": {
    "colab": {
     "base_uri": "https://localhost:8080/"
    },
    "id": "9yv4oBQ0MVqF",
    "outputId": "0f51d206-0f11-4539-bfe3-a6c5d4085e83"
   },
   "outputs": [
    {
     "name": "stdout",
     "output_type": "stream",
     "text": [
      "['sky', 'air_temp', 'humidity', 'wind', 'water', 'forecast', 'enjoy_sport']\n"
     ]
    }
   ],
   "source": [
    "print(l)"
   ]
  },
  {
   "cell_type": "code",
   "execution_count": 9,
   "metadata": {
    "id": "DYVwW9VVM-uV"
   },
   "outputs": [],
   "source": [
    "x = np.array(weather_data)[:, :-1]\n",
    "y = np.array(weather_data)[:, -1]"
   ]
  },
  {
   "cell_type": "code",
   "execution_count": 12,
   "metadata": {
    "colab": {
     "base_uri": "https://localhost:8080/"
    },
    "id": "eBm0a4SkNfOS",
    "outputId": "935923df-c1fc-436a-b520-9acb7b794fab"
   },
   "outputs": [
    {
     "name": "stdout",
     "output_type": "stream",
     "text": [
      "[['sunny' 'warm' 'normal' 'strong' 'warm' 'same']\n",
      " ['sunny' 'warm' 'high' 'strong' 'warm' 'same']\n",
      " ['rainy' 'cold' 'high' 'strong' 'warm' 'change']\n",
      " ['sunny' 'warm' 'high' 'strong' 'cool' 'change']]\n"
     ]
    }
   ],
   "source": [
    "print(x)"
   ]
  },
  {
   "cell_type": "code",
   "execution_count": 13,
   "metadata": {
    "colab": {
     "base_uri": "https://localhost:8080/"
    },
    "id": "AOkkR53KOHvs",
    "outputId": "2fa7f202-48b1-471a-a189-0ae61bb4a679"
   },
   "outputs": [
    {
     "name": "stdout",
     "output_type": "stream",
     "text": [
      "['sunny' 'warm' 'normal' 'strong' 'warm' 'same']\n"
     ]
    }
   ],
   "source": [
    "initial_hypo = ['%','%','%','%','%','%']\n",
    "for i, val in enumerate(y):\n",
    "  if val == 'yes':\n",
    "    initial_hypo = x[i]\n",
    "    break\n",
    "print(initial_hypo)"
   ]
  },
  {
   "cell_type": "code",
   "execution_count": 14,
   "metadata": {
    "id": "5hTN_zi1RWAy"
   },
   "outputs": [],
   "source": [
    "def change(a, b):\n",
    "  for i in range(len(a)):\n",
    "    if(a[i] != b[i] and a[i] != '?' and b[i] != '?'):\n",
    "      a[i] = '?'\n",
    "  return a "
   ]
  },
  {
   "cell_type": "code",
   "execution_count": 11,
   "metadata": {
    "id": "8YKQjIasQ-Hn"
   },
   "outputs": [
    {
     "name": "stdout",
     "output_type": "stream",
     "text": [
      "maximal specific hypothesis is ['sunny' 'warm' '?' 'strong' '?' '?']\n"
     ]
    }
   ],
   "source": [
    "#For Find S algorithm, uncomment this and run this code snippet\n",
    "\n",
    "for i, rec in enumerate(data):\n",
    "    if res[i] == 'yes':\n",
    "      #print('*', rec, initial_hypo)\n",
    "      if not((initial_hypo == rec).all()):\n",
    "        initial_hypo = change(initial_hypo, rec)\n",
    "print('maximal specific hypothesis is',initial_hypo)\n"
   ]
  },
  {
   "cell_type": "code",
   "execution_count": 11,
   "metadata": {
    "id": "zg5p1SuXRpvY"
   },
   "outputs": [],
   "source": [
    "general_hypothesis = [['?','?','?','?','?','?'],['?','?','?','?','?','?'],['?','?','?','?','?','?'],['?','?','?','?','?','?'],['?','?','?','?','?','?'],['?','?','?','?','?','?']]"
   ]
  },
  {
   "cell_type": "code",
   "execution_count": 12,
   "metadata": {
    "colab": {
     "base_uri": "https://localhost:8080/"
    },
    "id": "c4VcpbDsV7AE",
    "outputId": "d993e6a0-120c-4737-cfc3-7aa531d79c3f"
   },
   "outputs": [
    {
     "name": "stdout",
     "output_type": "stream",
     "text": [
      "sunny\n",
      "warm\n",
      "?\n",
      "strong\n",
      "warm\n",
      "same\n"
     ]
    }
   ],
   "source": [
    "#For candidate elimination algorithm, use this code snippet\n",
    "for i, rec in enumerate(data):\n",
    "    if res[i] == 'yes':\n",
    "      #print('*', rec, initial_hypo)\n",
    "      if not((initial_hypo == rec).all()):\n",
    "        initial_hypo = change(initial_hypo, rec)\n",
    "    if res[i] == 'no':\n",
    "      for j in range(len(initial_hypo)):\n",
    "        print(initial_hypo[j])\n",
    "        if initial_hypo[j] != rec[j] and initial_hypo[j] != '?' and initial_hypo[j] != '%':\n",
    "          general_hypothesis[j][j] = initial_hypo[j]"
   ]
  },
  {
   "cell_type": "code",
   "execution_count": 13,
   "metadata": {
    "colab": {
     "base_uri": "https://localhost:8080/"
    },
    "id": "k8O39BkeX_96",
    "outputId": "1351506e-aa59-4dbd-c370-3c95a7f202b0"
   },
   "outputs": [
    {
     "name": "stdout",
     "output_type": "stream",
     "text": [
      "maximal specific hypothesis is: ['sunny' 'warm' '?' 'strong' '?' '?']\n",
      "minimal general hypothesis is:\n",
      "[['sunny' '?' '?' '?' '?' '?']\n",
      " ['?' 'warm' '?' '?' '?' '?']\n",
      " ['?' '?' '?' '?' '?' '?']\n",
      " ['?' '?' '?' '?' '?' '?']\n",
      " ['?' '?' '?' '?' '?' '?']\n",
      " ['?' '?' '?' '?' '?' 'same']]\n"
     ]
    }
   ],
   "source": [
    "print('maximal specific hypothesis is:', initial_hypo)\n",
    "print('minimal general hypothesis is:')\n",
    "print(np.array(general_hypothesis))"
   ]
  },
  {
   "cell_type": "code",
   "execution_count": null,
   "metadata": {
    "id": "LVJ9d5e4ZIFx"
   },
   "outputs": [],
   "source": []
  }
 ],
 "metadata": {
  "colab": {
   "provenance": []
  },
  "kernelspec": {
   "display_name": "Python 3 (ipykernel)",
   "language": "python",
   "name": "python3"
  },
  "language_info": {
   "codemirror_mode": {
    "name": "ipython",
    "version": 3
   },
   "file_extension": ".py",
   "mimetype": "text/x-python",
   "name": "python",
   "nbconvert_exporter": "python",
   "pygments_lexer": "ipython3",
   "version": "3.9.13"
  }
 },
 "nbformat": 4,
 "nbformat_minor": 1
}
